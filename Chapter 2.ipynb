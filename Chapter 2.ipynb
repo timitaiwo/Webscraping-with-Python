{
 "cells": [
  {
   "cell_type": "code",
   "execution_count": 1,
   "id": "9e78b6c8-1905-48b7-8f8f-04021d237518",
   "metadata": {},
   "outputs": [],
   "source": [
    "import requests\n",
    "from bs4 import BeautifulSoup\n",
    "import pandas as pd"
   ]
  },
  {
   "cell_type": "code",
   "execution_count": 2,
   "id": "a4cfa688-a31a-4e69-8033-4df950e993f3",
   "metadata": {
    "jupyter": {
     "source_hidden": true
    },
    "tags": []
   },
   "outputs": [],
   "source": [
    "# Save page HTML to a file\n",
    "\n",
    "def save_page_html(html_script, file_name):\n",
    "    '''\n",
    "    Function that saves a html script to a HTML file.\n",
    "    \n",
    "    save_page_html(html_script, file_name)\n",
    "    \n",
    "    html_script is an html script in string datatype\n",
    "    file_name gives the name the file is saved in. Output file is named file_name.html\n",
    "    '''\n",
    "    assert type(file_name) == str and type(html_script) == str\n",
    "    \n",
    "    page_html = open(f\"{file_name}.html\", \"w\")\n",
    "    page_html.write(html_script)\n",
    "    page_html.close()"
   ]
  },
  {
   "cell_type": "code",
   "execution_count": 3,
   "id": "7bc4ac5e-1190-4fbd-add6-8734d63a87fc",
   "metadata": {},
   "outputs": [],
   "source": [
    "page_url_1 = \"http://www.pythonscraping.com/pages/warandpeace.html\"\n",
    "page_url_2 = \"http://pythonscraping.com/pages/page3.html\"\n",
    "\n",
    "page_1 = requests.get(page_url_1)\n",
    "page_1_bs = BeautifulSoup(page_1.text, \"lxml\")\n",
    "\n",
    "# save_page_html(page_1.text, \"test_page_1\")"
   ]
  },
  {
   "cell_type": "code",
   "execution_count": 4,
   "id": "a9f700f6-3801-4117-b1b5-4af558960b62",
   "metadata": {},
   "outputs": [],
   "source": [
    "name_list = page_1_bs.find_all('span', {'class': 'green'})\n",
    "names = []\n",
    "\n",
    "for name in name_list:\n",
    "    name = name.get_text()\n",
    "    names.append(name)"
   ]
  },
  {
   "cell_type": "code",
   "execution_count": 5,
   "id": "aa22edd1-a058-40f6-9173-acafa10aee76",
   "metadata": {
    "tags": []
   },
   "outputs": [
    {
     "data": {
      "text/plain": [
       "array(['Anna\\nPavlovna Scherer', 'Empress Marya\\nFedorovna',\n",
       "       'Prince Vasili Kuragin', 'Anna Pavlovna', 'St. Petersburg',\n",
       "       'the prince', 'Prince Vasili', 'Wintzingerode', 'King of Prussia',\n",
       "       'le Vicomte de Mortemart', 'Montmorencys', 'Rohans', 'Abbe Morio',\n",
       "       'the Emperor', 'Dowager Empress Marya Fedorovna', 'the baron',\n",
       "       'the Empress', \"Anna Pavlovna's\", 'Her Majesty', 'Baron\\nFunke',\n",
       "       'The prince', 'Anna\\nPavlovna', 'Anatole'], dtype=object)"
      ]
     },
     "execution_count": 5,
     "metadata": {},
     "output_type": "execute_result"
    }
   ],
   "source": [
    "'''\n",
    "Transformations\n",
    "- Clean the strings\n",
    "- Make each entry unique\n",
    "'''\n",
    "\n",
    "names_unique = pd.Series(names).unique()\n",
    "\n",
    "names_unique"
   ]
  },
  {
   "cell_type": "code",
   "execution_count": 6,
   "id": "0fcadd59-d9bc-44de-9e14-6385ff343413",
   "metadata": {
    "tags": []
   },
   "outputs": [
    {
     "data": {
      "text/plain": [
       "'\\n'"
      ]
     },
     "execution_count": 6,
     "metadata": {},
     "output_type": "execute_result"
    }
   ],
   "source": [
    "body_children = [child for child in page_1_bs.html.body.children]\n",
    "div_children = [child for child in page_1_bs.html.body.div.children]\n",
    "\n",
    "body_children[4]"
   ]
  },
  {
   "cell_type": "code",
   "execution_count": 7,
   "id": "db2ca380-5016-4aa8-81f3-7f0d19de1e74",
   "metadata": {},
   "outputs": [],
   "source": [
    "page_2 =requests.get(page_url_2)\n",
    "page_2_bs = BeautifulSoup(page_2.text, \"lxml\")\n",
    "\n",
    "# save_page_html(page_2.text, \"test_page_2\")"
   ]
  },
  {
   "cell_type": "code",
   "execution_count": 8,
   "id": "b3eb96f3-6767-4ddf-ba21-e29786843fab",
   "metadata": {
    "tags": []
   },
   "outputs": [],
   "source": [
    "table_rows = [row for row in page_2_bs.find('table', {'id':'giftList'}).tr.next_siblings]\n",
    "# for row in table_rows:\n",
    "#     print('child: ', row)"
   ]
  },
  {
   "cell_type": "code",
   "execution_count": 9,
   "id": "d8e6fb05-44af-455c-bd4d-b0c8ee563dab",
   "metadata": {},
   "outputs": [
    {
     "data": {
      "text/plain": [
       "<td>\n",
       "<img src=\"../img/gifts/img1.jpg\"/>\n",
       "</td>"
      ]
     },
     "execution_count": 9,
     "metadata": {},
     "output_type": "execute_result"
    }
   ],
   "source": [
    "page_2_bs.find('img', {'src': '../img/gifts/img1.jpg'}).parent"
   ]
  },
  {
   "cell_type": "code",
   "execution_count": 10,
   "id": "fd6a8d88-ba26-43e0-abc4-1e32408fe450",
   "metadata": {
    "tags": []
   },
   "outputs": [],
   "source": [
    "parents = [parent for parent in page_2_bs.find('img', {'src': '../img/gifts/img1.jpg'}).parents]\n",
    "\n",
    "# for parent in parents:\n",
    "#     print('parent: ', parent, '\\n')"
   ]
  },
  {
   "cell_type": "code",
   "execution_count": 11,
   "id": "fe27666c-0bc1-4e0d-b10f-831939e607d4",
   "metadata": {},
   "outputs": [
    {
     "data": {
      "text/plain": [
       "'\\n$15.00\\n'"
      ]
     },
     "execution_count": 11,
     "metadata": {},
     "output_type": "execute_result"
    }
   ],
   "source": [
    "page_2_bs.find('img', {'src': '../img/gifts/img1.jpg'}).parent.previous_sibling.get_text()"
   ]
  },
  {
   "cell_type": "code",
   "execution_count": null,
   "id": "bd54ffbf-b945-4040-8152-6293780b8f47",
   "metadata": {},
   "outputs": [],
   "source": []
  }
 ],
 "metadata": {
  "kernelspec": {
   "display_name": "Python 3 (ipykernel)",
   "language": "python",
   "name": "python3"
  },
  "language_info": {
   "codemirror_mode": {
    "name": "ipython",
    "version": 3
   },
   "file_extension": ".py",
   "mimetype": "text/x-python",
   "name": "python",
   "nbconvert_exporter": "python",
   "pygments_lexer": "ipython3",
   "version": "3.8.12"
  }
 },
 "nbformat": 4,
 "nbformat_minor": 5
}
