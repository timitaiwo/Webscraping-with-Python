{
 "cells": [
  {
   "cell_type": "code",
   "execution_count": 1,
   "id": "6147ae47-9709-4597-af0d-6165bff41d03",
   "metadata": {},
   "outputs": [],
   "source": [
    "from urllib.request import urlopen\n",
    "from bs4 import BeautifulSoup"
   ]
  },
  {
   "cell_type": "code",
   "execution_count": 2,
   "id": "f45a1591-b95f-48c4-b7ee-a9109f2599f6",
   "metadata": {},
   "outputs": [
    {
     "name": "stdout",
     "output_type": "stream",
     "text": [
      "RETURNED FILE SCRIPT: \n",
      " b'<html>\\n<head>\\n<title>A Useful Page</title>\\n</head>\\n<body>\\n<h1>An Interesting Title</h1>\\n<div>\\nLorem ipsum dolor sit amet, consectetur adipisicing elit, sed do eiusmod tempor incididunt ut labore et dolore magna aliqua. Ut enim ad minim veniam, quis nostrud exercitation ullamco laboris nisi ut aliquip ex ea commodo consequat. Duis aute irure dolor in reprehenderit in voluptate velit esse cillum dolore eu fugiat nulla pariatur. Excepteur sint occaecat cupidatat non proident, sunt in culpa qui officia deserunt mollit anim id est laborum.\\n</div>\\n</body>\\n</html>\\n' \n",
      "\n",
      "URLOPEN TYPE: \n",
      " <class 'http.client.HTTPResponse'>\n"
     ]
    }
   ],
   "source": [
    "test_url = 'http://pythonscraping.com/pages/page1.html'\n",
    "html = urlopen(test_url)\n",
    "html_script = html.read()\n",
    "print('RETURNED FILE SCRIPT: \\n', html_script, '\\n')\n",
    "print('URLOPEN TYPE: \\n', type(html))"
   ]
  },
  {
   "cell_type": "code",
   "execution_count": 3,
   "id": "de44bec5-8483-4a3c-bb6c-26b634062483",
   "metadata": {
    "tags": []
   },
   "outputs": [
    {
     "name": "stdout",
     "output_type": "stream",
     "text": [
      "<h1>An Interesting Title</h1>\n"
     ]
    }
   ],
   "source": [
    "bs_html_parser = BeautifulSoup(html_script, 'html.parser')\n",
    "print(bs_html_parser.h1)"
   ]
  },
  {
   "cell_type": "code",
   "execution_count": 4,
   "id": "93c4fc3b-7185-47b7-a167-45016a3f6959",
   "metadata": {},
   "outputs": [
    {
     "name": "stdout",
     "output_type": "stream",
     "text": [
      "<h1>An Interesting Title</h1>\n"
     ]
    }
   ],
   "source": [
    "bs_lxml = BeautifulSoup(html_script, 'lxml')\n",
    "print(bs_lxml.h1)"
   ]
  },
  {
   "cell_type": "code",
   "execution_count": 5,
   "id": "2353b887-4e75-4450-a691-c2f543922602",
   "metadata": {},
   "outputs": [],
   "source": [
    "from urllib.error import HTTPError\n",
    "from urllib.error import URLError"
   ]
  },
  {
   "cell_type": "code",
   "execution_count": 6,
   "id": "f7f533c0-d17d-4332-9c55-2affb49a4224",
   "metadata": {},
   "outputs": [
    {
     "name": "stdout",
     "output_type": "stream",
     "text": [
      "E connect\n"
     ]
    }
   ],
   "source": [
    "try:\n",
    "    html = urlopen(test_url)\n",
    "except HTTPError as e:\n",
    "    print(e)\n",
    "except URLError as e:\n",
    "    print(\"Server no dey oooo\")\n",
    "else:\n",
    "    print(\"E connect\")"
   ]
  },
  {
   "cell_type": "code",
   "execution_count": 7,
   "id": "4d2e6269-30bf-454c-b4e0-7cc8e7b3902b",
   "metadata": {},
   "outputs": [
    {
     "data": {
      "text/plain": [
       "b'<html>\\n<head>\\n<title>A Useful Page</title>\\n</head>\\n<body>\\n<h1>An Interesting Title</h1>\\n<div>\\nLorem ipsum dolor sit amet, consectetur adipisicing elit, sed do eiusmod tempor incididunt ut labore et dolore magna aliqua. Ut enim ad minim veniam, quis nostrud exercitation ullamco laboris nisi ut aliquip ex ea commodo consequat. Duis aute irure dolor in reprehenderit in voluptate velit esse cillum dolore eu fugiat nulla pariatur. Excepteur sint occaecat cupidatat non proident, sunt in culpa qui officia deserunt mollit anim id est laborum.\\n</div>\\n</body>\\n</html>\\n'"
      ]
     },
     "execution_count": 7,
     "metadata": {},
     "output_type": "execute_result"
    }
   ],
   "source": [
    "html.read()"
   ]
  }
 ],
 "metadata": {
  "kernelspec": {
   "display_name": "Python 3 (ipykernel)",
   "language": "python",
   "name": "python3"
  },
  "language_info": {
   "codemirror_mode": {
    "name": "ipython",
    "version": 3
   },
   "file_extension": ".py",
   "mimetype": "text/x-python",
   "name": "python",
   "nbconvert_exporter": "python",
   "pygments_lexer": "ipython3",
   "version": "3.8.12"
  }
 },
 "nbformat": 4,
 "nbformat_minor": 5
}
